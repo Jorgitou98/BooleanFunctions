{
 "cells": [
  {
   "cell_type": "code",
   "execution_count": 1,
   "metadata": {
    "id": "UsPdVTlymadc"
   },
   "outputs": [],
   "source": [
    "import pandas as pd\n",
    "import numpy as np\n",
    "from sklearn.neural_network import MLPClassifier\n",
    "from sklearn.metrics import f1_score\n",
    "from sklearn.preprocessing import StandardScaler\n",
    "from sklearn.metrics import classification_report\n",
    "from sklearn.metrics import confusion_matrix\n",
    "from sklearn.utils.multiclass import unique_labels\n",
    "import matplotlib.pyplot as plt\n",
    "from sklearn.linear_model import LogisticRegression"
   ]
  },
  {
   "cell_type": "code",
   "execution_count": 8,
   "metadata": {
    "id": "klaogUn4jdEr"
   },
   "outputs": [],
   "source": [
    "df = pd.read_csv(\"./metricas.csv\")"
   ]
  },
  {
   "cell_type": "code",
   "execution_count": 9,
   "metadata": {
    "colab": {
     "base_uri": "https://localhost:8080/",
     "height": 417
    },
    "id": "xzZF69Swkcbx",
    "outputId": "183fb7d9-61a1-498b-95ff-943026b5dde7"
   },
   "outputs": [
    {
     "data": {
      "text/html": [
       "<div>\n",
       "<style scoped>\n",
       "    .dataframe tbody tr th:only-of-type {\n",
       "        vertical-align: middle;\n",
       "    }\n",
       "\n",
       "    .dataframe tbody tr th {\n",
       "        vertical-align: top;\n",
       "    }\n",
       "\n",
       "    .dataframe thead th {\n",
       "        text-align: right;\n",
       "    }\n",
       "</style>\n",
       "<table border=\"1\" class=\"dataframe\">\n",
       "  <thead>\n",
       "    <tr style=\"text-align: right;\">\n",
       "      <th></th>\n",
       "      <th>Funcion</th>\n",
       "      <th>Repetitividad</th>\n",
       "      <th>Disticion de Pares</th>\n",
       "      <th>Clase</th>\n",
       "    </tr>\n",
       "  </thead>\n",
       "  <tbody>\n",
       "    <tr>\n",
       "      <th>0</th>\n",
       "      <td>0</td>\n",
       "      <td>64</td>\n",
       "      <td>0.000000</td>\n",
       "      <td>small</td>\n",
       "    </tr>\n",
       "    <tr>\n",
       "      <th>1</th>\n",
       "      <td>1</td>\n",
       "      <td>56</td>\n",
       "      <td>0.000000</td>\n",
       "      <td>small</td>\n",
       "    </tr>\n",
       "    <tr>\n",
       "      <th>2</th>\n",
       "      <td>2</td>\n",
       "      <td>56</td>\n",
       "      <td>0.000000</td>\n",
       "      <td>small</td>\n",
       "    </tr>\n",
       "    <tr>\n",
       "      <th>3</th>\n",
       "      <td>3</td>\n",
       "      <td>56</td>\n",
       "      <td>0.000000</td>\n",
       "      <td>small</td>\n",
       "    </tr>\n",
       "    <tr>\n",
       "      <th>4</th>\n",
       "      <td>4</td>\n",
       "      <td>56</td>\n",
       "      <td>0.000000</td>\n",
       "      <td>small</td>\n",
       "    </tr>\n",
       "    <tr>\n",
       "      <th>...</th>\n",
       "      <td>...</td>\n",
       "      <td>...</td>\n",
       "      <td>...</td>\n",
       "      <td>...</td>\n",
       "    </tr>\n",
       "    <tr>\n",
       "      <th>4100663</th>\n",
       "      <td>1456381527</td>\n",
       "      <td>24</td>\n",
       "      <td>723.416667</td>\n",
       "      <td>big</td>\n",
       "    </tr>\n",
       "    <tr>\n",
       "      <th>4100664</th>\n",
       "      <td>3194513099</td>\n",
       "      <td>28</td>\n",
       "      <td>837.916667</td>\n",
       "      <td>big</td>\n",
       "    </tr>\n",
       "    <tr>\n",
       "      <th>4100665</th>\n",
       "      <td>1127630112</td>\n",
       "      <td>32</td>\n",
       "      <td>585.166667</td>\n",
       "      <td>big</td>\n",
       "    </tr>\n",
       "    <tr>\n",
       "      <th>4100666</th>\n",
       "      <td>4245509472</td>\n",
       "      <td>44</td>\n",
       "      <td>367.416667</td>\n",
       "      <td>big</td>\n",
       "    </tr>\n",
       "    <tr>\n",
       "      <th>4100667</th>\n",
       "      <td>3172480625</td>\n",
       "      <td>8</td>\n",
       "      <td>683.666667</td>\n",
       "      <td>big</td>\n",
       "    </tr>\n",
       "  </tbody>\n",
       "</table>\n",
       "<p>4100668 rows × 4 columns</p>\n",
       "</div>"
      ],
      "text/plain": [
       "            Funcion  Repetitividad  Disticion de Pares  Clase\n",
       "0                 0             64            0.000000  small\n",
       "1                 1             56            0.000000  small\n",
       "2                 2             56            0.000000  small\n",
       "3                 3             56            0.000000  small\n",
       "4                 4             56            0.000000  small\n",
       "...             ...            ...                 ...    ...\n",
       "4100663  1456381527             24          723.416667    big\n",
       "4100664  3194513099             28          837.916667    big\n",
       "4100665  1127630112             32          585.166667    big\n",
       "4100666  4245509472             44          367.416667    big\n",
       "4100667  3172480625              8          683.666667    big\n",
       "\n",
       "[4100668 rows x 4 columns]"
      ]
     },
     "execution_count": 9,
     "metadata": {},
     "output_type": "execute_result"
    }
   ],
   "source": [
    "df"
   ]
  },
  {
   "cell_type": "code",
   "execution_count": 10,
   "metadata": {
    "id": "UAE9jauokflA"
   },
   "outputs": [],
   "source": [
    "X = df.loc[:,['Repetitividad', 'Disticion de Pares']]\n",
    "Y = df.loc[:,['Clase']]"
   ]
  },
  {
   "cell_type": "code",
   "execution_count": 11,
   "metadata": {
    "id": "esgJWyOOkmpA"
   },
   "outputs": [],
   "source": [
    "from sklearn.model_selection import train_test_split\n",
    "X_train, X_test, y_train, y_test = train_test_split(X, Y, test_size=0.33, random_state=0)"
   ]
  },
  {
   "cell_type": "code",
   "execution_count": 12,
   "metadata": {
    "id": "yRMHfGr2lztK"
   },
   "outputs": [],
   "source": [
    "scaler = StandardScaler()\n",
    "X_train = scaler.fit_transform(X_train)\n",
    "X_test = scaler.fit_transform(X_test)"
   ]
  },
  {
   "cell_type": "code",
   "execution_count": 14,
   "metadata": {
    "colab": {
     "base_uri": "https://localhost:8080/"
    },
    "id": "iT433BLelX_v",
    "outputId": "4a70cd7d-895a-40f0-9641-ea8839bd6508"
   },
   "outputs": [
    {
     "name": "stdout",
     "output_type": "stream",
     "text": [
      "Clase    50.012102\n",
      "dtype: float64\n",
      "Clase    49.975429\n",
      "dtype: float64\n"
     ]
    }
   ],
   "source": [
    "print(np.sum(y_train == 'small')/len(y_train)*100)\n",
    "print(np.sum(y_test == 'small')/len(y_test)*100)"
   ]
  },
  {
   "cell_type": "code",
   "execution_count": 15,
   "metadata": {
    "colab": {
     "base_uri": "https://localhost:8080/"
    },
    "id": "N63INQiTlhQw",
    "outputId": "5a938780-8bfa-4203-b338-2d2e002c6809"
   },
   "outputs": [
    {
     "data": {
      "text/plain": [
       "1353221"
      ]
     },
     "execution_count": 15,
     "metadata": {},
     "output_type": "execute_result"
    }
   ],
   "source": [
    "len(X_test)"
   ]
  },
  {
   "cell_type": "code",
   "execution_count": 19,
   "metadata": {
    "colab": {
     "base_uri": "https://localhost:8080/",
     "height": 390
    },
    "id": "4qwgNpF4jdL-",
    "outputId": "8c7dac11-6be0-4513-f97e-78742bc72839"
   },
   "outputs": [
    {
     "name": "stderr",
     "output_type": "stream",
     "text": [
      "C:\\Users\\jorvi\\anaconda3\\lib\\site-packages\\sklearn\\utils\\validation.py:63: DataConversionWarning: A column-vector y was passed when a 1d array was expected. Please change the shape of y to (n_samples, ), for example using ravel().\n",
      "  return f(*args, **kwargs)\n"
     ]
    }
   ],
   "source": [
    "clf = LogisticRegression(random_state=333).fit(X_train, y_train)"
   ]
  },
  {
   "cell_type": "code",
   "execution_count": 20,
   "metadata": {
    "id": "hTrPTq4ykFjm"
   },
   "outputs": [],
   "source": [
    "y_test_pred = clf.predict(X_test)"
   ]
  },
  {
   "cell_type": "code",
   "execution_count": 21,
   "metadata": {
    "colab": {
     "base_uri": "https://localhost:8080/"
    },
    "id": "AzhzJKV2kLGO",
    "outputId": "f5291ca5-cd1c-4878-c5b9-99d09a9c3a51"
   },
   "outputs": [
    {
     "name": "stdout",
     "output_type": "stream",
     "text": [
      "              precision    recall  f1-score   support\n",
      "\n",
      "         big       0.91      0.91      0.91    676943\n",
      "       small       0.91      0.91      0.91    676278\n",
      "\n",
      "    accuracy                           0.91   1353221\n",
      "   macro avg       0.91      0.91      0.91   1353221\n",
      "weighted avg       0.91      0.91      0.91   1353221\n",
      "\n"
     ]
    }
   ],
   "source": [
    "print(classification_report(y_test, y_test_pred))"
   ]
  },
  {
   "cell_type": "code",
   "execution_count": 27,
   "metadata": {
    "colab": {
     "base_uri": "https://localhost:8080/",
     "height": 694
    },
    "id": "q0oBlvkF2OG1",
    "outputId": "02959cc1-c8a4-491b-9c82-260599652fdb"
   },
   "outputs": [
    {
     "name": "stdout",
     "output_type": "stream",
     "text": [
      "Confusion not normalized\n",
      "[[618860  58083]\n",
      " [ 57783 618495]]\n",
      "Confusion matrix normalized\n",
      "[[0.91419809 0.08580191]\n",
      " [0.08544267 0.91455733]]\n"
     ]
    },
    {
     "data": {
      "text/plain": [
       "<AxesSubplot:title={'center':'Heuristic classifier'}, xlabel='Predicted label', ylabel='Correct label'>"
      ]
     },
     "execution_count": 27,
     "metadata": {},
     "output_type": "execute_result"
    },
    {
     "data": {
      "image/png": "[encoded data removed]",
      "text/plain": [
       "<Figure size 432x288 with 2 Axes>"
      ]
     },
     "metadata": {
      "needs_background": "light"
     },
     "output_type": "display_data"
    },
    {
     "data": {
      "image/png": "[encoded data removed]",
      "text/plain": [
       "<Figure size 432x288 with 2 Axes>"
      ]
     },
     "metadata": {
      "needs_background": "light"
     },
     "output_type": "display_data"
    }
   ],
   "source": [
    "plot_confusion_matrix(y_test, y_test_pred, normalize = False, title = 'Heuristic classifier')\n",
    "plot_confusion_matrix(y_test, y_test_pred, normalize = True, title = 'Heuristic classifier')"
   ]
  },
  {
   "cell_type": "code",
   "execution_count": null,
   "metadata": {
    "colab": {
     "base_uri": "https://localhost:8080/"
    },
    "id": "fopEbbfJlcos",
    "outputId": "f7260c3c-f634-4412-9bde-8f44e2b9462e"
   },
   "outputs": [
    {
     "name": "stdout",
     "output_type": "stream",
     "text": [
      "[[-0.0157047   2.64635338 -1.87987816]]\n"
     ]
    }
   ],
   "source": [
    "print(clf.coef_)"
   ]
  }
 ],
 "metadata": {
  "colab": {
   "collapsed_sections": [],
   "name": "modelosSobreLasMetricas.ipynb",
   "provenance": []
  },
  "kernelspec": {
   "display_name": "Python 3",
   "language": "python",
   "name": "python3"
  },
  "language_info": {
   "codemirror_mode": {
    "name": "ipython",
    "version": 3
   },
   "file_extension": ".py",
   "mimetype": "text/x-python",
   "name": "python",
   "nbconvert_exporter": "python",
   "pygments_lexer": "ipython3",
   "version": "3.8.8"
  }
 },
 "nbformat": 4,
 "nbformat_minor": 1
}
